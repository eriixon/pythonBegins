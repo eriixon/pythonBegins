{
 "cells": [
  {
   "cell_type": "code",
   "execution_count": 2,
   "metadata": {
    "collapsed": true
   },
   "outputs": [],
   "source": [
    "import pandas as pd\n",
    "import numpy as np\n",
    "import matplotlib.pyplot as plt\n",
    "import scipy.stats as sts\n",
    "%matplotlib inline"
   ]
  },
  {
   "cell_type": "markdown",
   "metadata": {},
   "source": [
    "# Нормальное распределение\n",
    "\n",
    "Количество изюма в булочка в среднем 15\n",
    "\n",
    "$\\mu=15.0$    \n",
    "$\\sigma = 2.0$"
   ]
  },
  {
   "cell_type": "code",
   "execution_count": 3,
   "metadata": {},
   "outputs": [
    {
     "data": {
      "text/plain": [
       "array([ 12.65953015,  16.07532189,  17.90390716,  15.04342658,\n",
       "        16.05332029,  15.16239608,  13.29864634,  13.92844993,\n",
       "        13.10035132,  16.50167519,  14.91681203,  14.96324136,\n",
       "        15.24785688,  14.29922363,  13.99869612,  16.58134934,\n",
       "        16.10579248,  15.56107885,  13.90914287,  16.20048922,\n",
       "        13.72676638,  14.23929968,  14.91422896,  16.97274753,\n",
       "        13.69285895,  15.29318602,  17.64378759,  17.68950481,\n",
       "        14.07012399,  15.3069273 ,  12.78855938,  18.79186642,\n",
       "        17.94115098,  10.61760255,  14.84400825,  12.78581385,\n",
       "        16.54529431,  17.72788935,  13.80285704,  17.14232758,\n",
       "        15.5193884 ,  11.66368365,  14.3451936 ,  12.94155194,\n",
       "         9.223973  ,  13.79231088,  16.29744532,  13.66571506,\n",
       "        15.47501717,  16.94890033,  15.22967098,  14.3240464 ,\n",
       "        14.08193643,  14.04497653,  16.18387073,  13.04585238,\n",
       "        14.08072369,  16.88905371,  15.61957791,  14.29568153,\n",
       "        14.09471055,  13.85948775,  14.76263037,  18.63007363,\n",
       "        12.41158131,  15.87892726,  15.18739342,  10.90616635,\n",
       "        17.08009929,  21.30119691,  19.04208935,  13.47854287,\n",
       "        17.31159093,  11.85061243,  13.88438283,  15.00796965,\n",
       "        15.7054919 ,  16.72818003,  16.83972411,  14.93247828,\n",
       "        11.7186721 ,  13.34858303,  16.98682056,  15.38036817,\n",
       "        16.57966824,  16.82661691,  16.73369504,  13.45328859,\n",
       "        14.0253084 ,  12.92967338,  16.37345659,  16.05620793,\n",
       "        13.22006424,  16.43564318,  14.51181013,  15.39843223,\n",
       "        14.56476983,  14.75831043,  14.34116845,  14.1436813 ,\n",
       "        15.02851174,  12.24109157,  15.02238285,  15.95886774,\n",
       "        13.43122773,  13.49625293,  11.79964135,  15.44098327,\n",
       "        13.14739028,  12.82788064,  15.97655108,  13.94294052,\n",
       "        16.85064326,  14.86501667,  14.25833124,  17.44484331,\n",
       "        14.20990932,  18.9451126 ,  10.9463892 ,  14.8540576 ,\n",
       "        15.89642454,  12.05855823,  15.45172493,  12.5751352 ,\n",
       "        15.02778636,  15.43774566,  14.20625055,  17.27545177,\n",
       "        18.52459512,  11.21997413,  13.30944586,  17.19530057,\n",
       "        12.49945254,  15.71959394,  18.71669881,  14.118801  ,\n",
       "        13.56973653,  16.42209349,   9.95984756,  16.68163372,\n",
       "        15.60566165,  16.84234362,  13.98790259,  16.1688063 ,\n",
       "        14.88205014,  15.06290109,  14.46147361,  12.90397491,\n",
       "        14.60200557,  14.38435271,  13.80815382,   9.57956764,\n",
       "        12.10754159,  14.23998076,  16.98942703,  17.79337751,\n",
       "        15.27158914,  17.1553118 ,  16.00887355,  17.26636452,\n",
       "        13.95443597,  15.51456029,  16.02372187,  16.14806134,\n",
       "        10.92937904,  13.72774466,  14.50846353,  15.16118103,\n",
       "        14.70232151,  12.07857889,  14.69043393,  15.46360871,\n",
       "        15.84285092,  14.09383225,  13.64700811,  13.7027357 ,\n",
       "        13.88129984,  17.05805344,  17.79771239,  14.41058868,\n",
       "        14.61546278,  15.92996158,  15.17018565,  17.71924443,\n",
       "        14.83460391,  16.21826312,  15.23132008,  14.91084303,\n",
       "        16.33455958,  16.56045434,  15.7303669 ,  15.48490686,\n",
       "        12.97347986,  12.01483743,  14.57213019,  14.09318858,\n",
       "        15.59632678,  13.35818974,  18.87708983,  12.13243233,\n",
       "        18.82563342,  14.14664421,  14.51917845,  12.30077459,\n",
       "        13.09412361,  15.31223417,  14.91815074,  14.92548481,\n",
       "        14.97910515,  14.81258374,  11.99194654,  13.52089489,\n",
       "         9.73756774,  16.99690608,  14.06920124,  17.49718789,\n",
       "        16.74741332,  16.19180351,  16.59252547,  15.56955937,\n",
       "        17.70713995,  16.3048534 ,  16.05182708,  12.14338153,\n",
       "        15.90765113,  12.58151567,  14.28533864,  13.75349911,\n",
       "        17.80838785,  12.62576365,  14.79547741,  12.99911896,\n",
       "        17.21596969,  14.7247047 ,  12.55600773,  15.68025933,\n",
       "        11.6957722 ,  14.97609084,  15.47922419,  13.66194526,\n",
       "        15.08108418,  17.4257238 ,  16.34325855,  15.47403736,\n",
       "        17.34724348,  13.8957878 ,  18.23626244,  10.38307218,\n",
       "        14.47749687,  13.82317531,  14.83562461,  16.93555898,\n",
       "        17.28989955,  10.49560016,  12.30582972,  17.61196146,\n",
       "        19.52507982,  12.49598328,  11.54770711,  15.25994338,\n",
       "        14.29037869,  16.6657804 ,  14.3951006 ,  17.03343672,\n",
       "        16.19593402,  14.85007251,  15.55121305,  18.15117024,\n",
       "        15.69890848,  15.44140541,  16.48589291,  17.62881907,\n",
       "        19.33554704,  10.64947005,  12.50950141,  18.31380719,\n",
       "        14.56043222,  15.23961631,  13.71590169,  16.87916156,\n",
       "        18.16677494,  14.79914338,  16.05418034,  15.49103904,\n",
       "        15.01128729,  13.05106944,  15.55078806,  13.29449682,\n",
       "        16.52949176,  14.27746478,  15.78752146,  16.8852755 ,\n",
       "        11.01786613,  14.08570065,  16.84135829,  13.18224063,\n",
       "        17.62879934,  15.17295248,  15.23913359,  17.72148581,\n",
       "        16.75724023,  17.57647993,  13.57833302,  14.46527548,\n",
       "        15.37289078,  15.71374873,  13.67027108,  10.33916612,\n",
       "        16.0002674 ,  16.19655312,  16.1084516 ,  14.25725165,\n",
       "        14.58610284,  18.19240261,  10.51388931,  16.40456054,\n",
       "        17.50993583,  16.55907216,  18.1674193 ,  14.83167284,\n",
       "        15.96672828,  13.62394573,  17.49018235,  16.96934305,\n",
       "        14.67644174,  16.73806004,  17.92473445,  14.96817602,\n",
       "        15.58283026,  16.88975816,  16.49427643,  15.15721174,\n",
       "        16.35685801,  11.16571269,  15.75094464,  17.99353788,\n",
       "        12.75350309,  14.40152467,  14.01262179,  11.35762907,\n",
       "        14.78505559,  11.62341356,  13.51736015,  13.52876948,\n",
       "        15.82079253,  13.75902384,  15.624122  ,  17.30290652,\n",
       "        13.25772004,  15.18390124,  14.36288271,  13.41683326,\n",
       "        13.40825198,  10.36494531,  12.45703083,  11.9924704 ,\n",
       "        17.2794121 ,  14.1592661 ,  15.18855512,  15.50250983,\n",
       "        15.02157465,  15.68517059,  15.71114721,  18.13350494,\n",
       "        11.8583341 ,  15.69154852,  14.12208192,  14.62762729,\n",
       "        13.03564047,  16.48273016,  17.32327752,  13.80084065,\n",
       "        15.23759055,  14.65648039,  16.03770263,  12.89497409,\n",
       "        16.55243414,  15.46376843,  14.89442986,  12.69850402,\n",
       "        15.82000955,  10.60163242,  17.374653  ,  12.39802419,\n",
       "        16.56053339,  14.41662564,  14.10977495,  16.3312637 ,\n",
       "        15.86387896,  14.05352719,  17.96377057,  17.44813324,\n",
       "        14.45683604,  13.28932154,  13.69642141,  12.87960216,\n",
       "        15.64100953,  13.60518263,  14.93973082,  16.31265903,\n",
       "        11.19486984,  16.04745607,  12.95033843,  16.19253708,\n",
       "        15.60809291,  16.88986065,  10.7012222 ,  17.46438263,\n",
       "        14.6429024 ,  18.26660467,  19.58841031,  13.86129251,\n",
       "        14.85310622,  10.96076763,  14.95977348,  16.29727299,\n",
       "        13.76402187,  13.48406195,  19.47394294,  14.09277618,\n",
       "        15.28824569,  15.97131223,  13.23866578,  16.72126954,\n",
       "        17.12919965,  14.64897647,  17.20365868,  15.17368652,\n",
       "        15.8654494 ,  16.52073334,  15.23692129,  18.95265332,\n",
       "        11.65262117,  13.02630952,  14.947858  ,  15.33980002,\n",
       "        16.53028649,  17.40095838,  16.09402056,  13.3278253 ,\n",
       "        16.87959935,  15.11171579,  15.47996627,  17.03437967,\n",
       "        14.56479526,  17.03219237,  15.26061868,  17.74397392,\n",
       "        19.7473289 ,  14.96060582,  19.05893193,  15.73791905,\n",
       "        14.80025824,  15.80721293,  17.61137258,  16.05032243,\n",
       "        12.11616793,  15.41382829,  13.415954  ,  13.00450708,\n",
       "        13.42297946,  15.59361121,  15.24659264,  15.18622498,\n",
       "        18.62912617,  14.37647243,  16.17044697,  12.63590598,\n",
       "        14.37895141,  15.84539388,  15.29940447,  13.25546826,\n",
       "        14.07482183,  20.19449932,  16.20529772,  14.15475443,\n",
       "        12.23791492,  11.32312202,  15.0387815 ,  18.94872062,\n",
       "        15.03328692,  15.50761032,  14.50077389,  10.49806478,\n",
       "        15.4675382 ,  15.77555885,  12.4466583 ,  15.45708032,\n",
       "        15.023098  ,  14.33829311,  16.10732906,  10.89128697,\n",
       "        15.70518532,  13.22924579,  13.20435103,  17.52976559,\n",
       "        15.62310647,  17.06082968,  14.69956021,  13.47371458,\n",
       "        15.79899974,  18.28917231,  12.7356408 ,  14.31068057,\n",
       "        14.22111887,  13.50821039,  12.96735224,  18.29300433,\n",
       "        14.50569308,  17.78465039,  14.39304651,  15.36725925,\n",
       "        14.61169795,  17.83652996,  16.67275432,  12.77248609,\n",
       "        16.71442067,  15.66939226,  14.73623308,  12.55164394,\n",
       "        15.42337799,  12.90632691,  12.63398669,  13.79877127,\n",
       "        16.26906688,  15.51233598,  16.61674994,  15.52034574,\n",
       "        14.28343499,  16.91778905,  13.27497334,  15.87395223,\n",
       "        15.56626633,  16.05764758,  14.12124774,  16.08881076,\n",
       "        13.25767694,  15.59095949,  16.9904519 ,  15.86887766,\n",
       "        13.96397565,  13.54668498,  16.42027637,  15.03673023,\n",
       "        13.97862454,  14.00634167,  14.86110048,  15.68577321,\n",
       "        10.54124941,  15.55654891,  15.37583612,  14.18491139,\n",
       "        14.01764817,  15.65700595,  14.67996753,  16.12307191,\n",
       "        12.41317122,  15.88379215,  13.59219986,  13.59195249,\n",
       "        15.27620678,  16.43900245,  14.56442431,  14.3400113 ,\n",
       "        15.53829904,  15.22241325,  15.68744817,  16.20954119,\n",
       "        16.72049731,  13.34762834,  16.17696228,  16.77874928,\n",
       "        12.106024  ,  14.84212972,  13.62562226,  15.66218716,\n",
       "        17.66633492,  12.37838281,  15.9081272 ,  16.0169338 ,\n",
       "        12.20693978,  11.70512465,  15.97856683,  13.23016712,\n",
       "        12.7973036 ,  13.4539281 ,  17.11491258,  13.55917782,\n",
       "        12.23689747,  13.26574411,  17.70124982,  16.63133942,\n",
       "        12.32026466,  14.30360694,  15.41309377,  13.40769447,\n",
       "        12.80736791,  16.9570723 ,  17.6628469 ,  15.68399169,\n",
       "        15.95078476,  13.57343318,  14.22970015,  13.48496244,\n",
       "        13.1616341 ,  12.83716196,  14.6766983 ,  14.51457597,\n",
       "         9.56630846,  19.53178003,  11.30140428,  17.50966073,\n",
       "        14.99686482,  19.46761337,  13.99701038,  12.49885749,\n",
       "        17.27261724,  14.60674008,  20.32214571,  13.70816589,\n",
       "        13.87880039,  14.38612232,  15.10977347,  13.27479527,\n",
       "        12.65233131,  15.65092072,  15.45069151,  14.79172054,\n",
       "        17.06678817,  13.13629444,  12.60855032,  14.78623336,\n",
       "        11.97010516,  13.69100846,  18.43457302,  17.13614256,\n",
       "        14.43508317,  16.85098043,  10.86185197,  13.46669098,\n",
       "        11.88477179,  12.91913967,  11.47359094,  12.96151539,\n",
       "        12.66227224,  13.39116017,  14.82156559,  14.23573724,\n",
       "        13.55478074,  15.01610885,  14.28881819,  10.53404555,\n",
       "        12.62866995,  16.89413862,  14.89071319,  13.38600598,\n",
       "        13.36308841,  14.27582939,  17.2813843 ,  15.60671808,\n",
       "        10.96621497,  18.12139812,  15.07846389,  17.92161345,\n",
       "        12.30736189,  14.50391565,  15.7413376 ,  16.72123917,\n",
       "        14.26623825,  15.04413437,  12.99322657,  14.89479415,\n",
       "        18.35692773,  17.24882696,  16.76244319,  17.41475476,\n",
       "        12.36203133,  13.19665318,  13.54719473,  15.56866585,\n",
       "        13.39126425,  14.64752834,  17.89646338,   9.2345128 ,\n",
       "        14.10000926,  13.55117908,  12.83263599,  15.2698645 ,\n",
       "        13.35432719,  17.92642171,  12.50094453,  14.04141704,\n",
       "        16.36262754,  14.99937408,  13.74062578,  13.553697  ,\n",
       "        14.44849189,  17.14968237,  15.65292006,  15.04177297,\n",
       "        17.91478714,  14.91143414,  16.02152183,  16.82411698,\n",
       "        15.70724771,  15.23874189,  16.44892832,  11.60827646,\n",
       "        14.81668652,  15.57325557,  16.53787366,  13.28431781,\n",
       "        16.82374629,  14.13400828,  16.30494013,  14.78989769,\n",
       "        14.38476219,  10.87421205,  12.88947901,  11.13393787,\n",
       "        13.61650487,  15.50048137,  15.27331542,  14.2279481 ,\n",
       "        16.84508477,  13.46484671,  13.62362827,  17.59431853,\n",
       "        17.65485115,  13.96555047,  18.26420623,  15.04564978,\n",
       "        17.55926668,  15.35252682,  16.02731204,  14.90070942,\n",
       "        19.04976819,  12.15943738,  15.04286032,  14.2327796 ,\n",
       "        12.53612287,  18.57167578,  14.41554009,  15.00925139,\n",
       "        13.49863124,  14.77822565,  15.844924  ,  11.28196426,\n",
       "        14.21662034,  19.31666475,  17.52814445,  11.15429705,\n",
       "        14.46964599,  11.76227066,  14.49399464,  16.43390133,\n",
       "        11.43050493,  13.66137572,  12.22581813,  14.38495514,\n",
       "        15.22262183,  14.98157485,  19.28955239,  12.89603063,\n",
       "        15.82507815,  13.36548719,  17.44885961,  16.93762797,\n",
       "        16.18432236,  10.82435271,  15.1130015 ,  13.39464753,\n",
       "        16.29244811,  14.85384284,  14.1429171 ,  14.44429213,\n",
       "        12.47300632,  15.79514821,  13.58176231,  14.87798595,\n",
       "        15.37727478,  16.65305741,  14.08717465,  16.93025495,\n",
       "        17.1364388 ,  16.12787211,  15.90611487,  16.30911611,\n",
       "        15.29732502,  15.88464471,  15.2365535 ,  19.43533432,\n",
       "        17.37772506,  14.7190073 ,  15.97986453,  16.46236404,\n",
       "        13.17396248,  14.59099574,  12.81823268,  13.1455401 ,\n",
       "        14.3344969 ,  15.78682813,  17.03226796,  15.3720083 ,\n",
       "        13.42838244,  17.81927229,  15.17475766,  14.65637762,\n",
       "        16.49648361,  18.08507688,  16.76821279,  12.08962104,\n",
       "        13.70606101,  16.98407016,  13.84335538,  17.80781597,\n",
       "        16.59968631,  10.4129186 ,  11.1842293 ,  12.09655449,\n",
       "        12.85441908,  17.03285626,  12.94100327,  14.94655923,\n",
       "        13.70887273,  13.46464903,  17.06238116,  14.75230581,\n",
       "        14.96126087,  17.07139149,  17.35217396,  15.04157795,\n",
       "        13.64902319,  14.19413426,  14.73545922,  11.59154695,\n",
       "        17.19297651,  16.07511886,  10.83621007,  12.58677033,\n",
       "        14.5880404 ,  15.57863708,  13.38164528,  15.16206872,\n",
       "        13.86844292,  11.41831241,  14.7779881 ,  14.98574987,\n",
       "        15.79475871,  13.89933947,  13.49512626,  16.18210974,\n",
       "        12.39422627,  11.87329059,  12.61516174,  10.38890166,\n",
       "        17.00138044,  19.6727386 ,  18.40839032,  15.7617253 ,\n",
       "        17.42657153,  13.94975274,  16.70957707,  12.61241771,\n",
       "        13.35550486,  14.56346127,  16.25425293,  10.67767564,\n",
       "        15.28365211,  13.2603795 ,  16.08658692,  13.81693232,\n",
       "        14.62290251,  13.64728927,  16.48344686,  14.8051059 ,\n",
       "        16.20884361,  15.86406106,  10.59684928,  15.49398149,\n",
       "        16.78685992,  15.20459569,  15.28045759,  11.90759063,\n",
       "        13.47355729,  11.51291749,  11.80187939,  16.55492708,\n",
       "        17.11610234,  11.76970595,  14.37821198,  18.61884731,\n",
       "        13.75546362,  18.17090062,  14.4788875 ,  17.33516162,\n",
       "        16.6218265 ,  15.37750704,  17.14205686,  15.06651031,\n",
       "        15.29295956,  12.040518  ,  16.87232665,  15.00561028,\n",
       "        16.1305926 ,  14.12378259,  13.83488757,  12.90619609,\n",
       "        13.88029733,  14.90159349,  14.09734725,  14.35673514,\n",
       "        14.90286328,  15.47095516,  15.68918056,  13.04017015,\n",
       "        16.09056832,  12.3758419 ,  11.02101372,  14.32112041,\n",
       "        13.24425635,  14.94601062,  18.22097831,  15.90326863,\n",
       "        13.68174241,  11.58223543,  14.8003098 ,  15.95726007,\n",
       "        15.95895044,  14.11629381,  16.35958321,  10.95935445,\n",
       "        17.22325339,  15.87530767,  17.64404211,  16.18380249,\n",
       "        10.90091071,  15.29473624,  15.04193377,  15.38984548,\n",
       "        14.33270372,  15.31797704,  17.04323677,  14.61827787,\n",
       "        12.7151046 ,  16.12974722,  13.29727735,  17.30644334,\n",
       "        15.40565512,  17.45762235,  14.36817565,  15.88462361,\n",
       "        15.47177604,  15.65087754,  15.28957413,  15.03536736,\n",
       "        13.19229195,  16.61665128,  17.74980713,  11.30548201,\n",
       "        13.36175462,  18.34911317,  12.06928879,  15.13773302,\n",
       "        13.73965988,  13.47585957,  18.88955482,  15.88610741,\n",
       "        16.02313887,  17.40921503,  16.88988767,  12.84816941,\n",
       "        12.18380872,  17.76976153,  17.78489016,  17.70120847,\n",
       "        14.23430029,  13.2551155 ,  16.33370027,  19.26378451,\n",
       "        15.49532732,  12.20190744,  14.35673672,  16.28630386,\n",
       "        13.95223642,  14.04916282,  15.72514026,  17.39830533,\n",
       "        17.76128877,  14.18741307,  14.91870579,  15.17382595,\n",
       "        14.7323226 ,  17.18702452,  17.42747151,  12.58108423,\n",
       "        14.15982809,  15.41178366,  15.28983309,  14.49861068])"
      ]
     },
     "execution_count": 3,
     "metadata": {},
     "output_type": "execute_result"
    }
   ],
   "source": [
    "m = 15.0\n",
    "s = 2.0\n",
    "\n",
    "norm = sts.norm(loc=m, scale=s)\n",
    "norm.rvs(size=1000)"
   ]
  },
  {
   "cell_type": "code",
   "execution_count": 18,
   "metadata": {},
   "outputs": [
    {
     "data": {
      "text/plain": [
       "Text(0.5,0,u'$x$')"
      ]
     },
     "execution_count": 18,
     "metadata": {},
     "output_type": "execute_result"
    },
    {
     "data": {
      "image/png": "[encoded data removed]",
      "text/plain": [
       "<matplotlib.figure.Figure at 0xe22f400>"
      ]
     },
     "metadata": {},
     "output_type": "display_data"
    }
   ],
   "source": [
    "b = norm.rvs(size=1000)\n",
    "\n",
    "a = np.hstack(b)\n",
    "plt.hist(a, bins='auto', normed=True)\n",
    "plt.title(\"Histogram with 'auto' bins\")\n",
    "\n",
    "x = np.linspace(8,22,1000)\n",
    "cdf = norm.cdf(x)\n",
    "plt.plot(x, cdf)\n",
    "plt.ylabel('$F(x)$')\n",
    "plt.xlabel('$x$')"
   ]
  },
  {
   "cell_type": "code",
   "execution_count": 10,
   "metadata": {},
   "outputs": [
    {
     "data": {
      "text/plain": [
       "6.2883619143909686e-68"
      ]
     },
     "execution_count": 10,
     "metadata": {},
     "output_type": "execute_result"
    }
   ],
   "source": [
    "# norm.pdf(5)\n",
    "# norm.pdf(10)\n",
    "norm.pdf(50)\n"
   ]
  },
  {
   "cell_type": "code",
   "execution_count": 27,
   "metadata": {
    "collapsed": true
   },
   "outputs": [],
   "source": [
    "def clt(sample,n,n_sub_samples=1000):\n",
    "    means = []\n",
    "    for i in range(n_sub_samples):\n",
    "        sub_sample = sample[np.random.randint(0,len(sample),n)]\n",
    "        means.append(np.mean(sub_sample))\n",
    "        \n",
    "    mu = np.mean(means)\n",
    "    sigma = np.std(means,ddof=1)\n",
    "    SE = s/np.sqrt(n)\n",
    "    \n",
    "    norm_rv = sts.norm(m,SE)\n",
    "    \n",
    "    print 'Теоретическое среднее vs приближенное: {:.2f} vs {:.2f}'.format(m,mu)\n",
    "    print 'Теоретическое стандартное откл. vs приближенное: {:.2f} vs {:.2f}'.format(SE,sigma)\n",
    "    print 'Приближенное среднее 95% доверительный интервал = {:.2f} +/- {:.2f}'.format(mu,2*SE)\n",
    "    \n",
    "    plt.hist(means,normed=True,label='actual')\n",
    "    plt.plot(x,norm_rv.pdf(x),label='theoretical')\n",
    "    plt.legend()\n",
    "    plt.ylabel('$f(x)$')\n",
    "    plt.xlabel('$x$')"
   ]
  },
  {
   "cell_type": "code",
   "execution_count": 28,
   "metadata": {},
   "outputs": [
    {
     "name": "stdout",
     "output_type": "stream",
     "text": [
      "Теоретическое среднее vs приближенное: 15.00 vs 14.92\n",
      "Теоретическое стандартное откл. vs приближенное: 0.89 vs 0.94\n",
      "Приближенное среднее 95% доверительный интервал = 14.92 +/- 1.79\n"
     ]
    },
    {
     "data": {
      "image/png": "[encoded data removed]",
      "text/plain": [
       "<matplotlib.figure.Figure at 0xf715da0>"
      ]
     },
     "metadata": {},
     "output_type": "display_data"
    }
   ],
   "source": [
    "clt(b, 5)"
   ]
  },
  {
   "cell_type": "code",
   "execution_count": 29,
   "metadata": {},
   "outputs": [
    {
     "name": "stdout",
     "output_type": "stream",
     "text": [
      "Теоретическое среднее vs приближенное: 15.00 vs 14.87\n",
      "Теоретическое стандартное откл. vs приближенное: 0.28 vs 0.28\n",
      "Приближенное среднее 95% доверительный интервал = 14.87 +/- 0.57\n"
     ]
    },
    {
     "data": {
      "image/png": "[encoded data removed]",
      "text/plain": [
       "<matplotlib.figure.Figure at 0xfbe9438>"
      ]
     },
     "metadata": {},
     "output_type": "display_data"
    }
   ],
   "source": [
    "clt(b, 50)"
   ]
  },
  {
   "cell_type": "code",
   "execution_count": 30,
   "metadata": {},
   "outputs": [
    {
     "name": "stdout",
     "output_type": "stream",
     "text": [
      "Теоретическое среднее vs приближенное: 15.00 vs 14.88\n",
      "Теоретическое стандартное откл. vs приближенное: 0.09 vs 0.09\n",
      "Приближенное среднее 95% доверительный интервал = 14.88 +/- 0.18\n"
     ]
    },
    {
     "data": {
      "image/png": "[encoded data removed]",
      "text/plain": [
       "<matplotlib.figure.Figure at 0x10383978>"
      ]
     },
     "metadata": {},
     "output_type": "display_data"
    }
   ],
   "source": [
    "clt(b, 500)"
   ]
  },
  {
   "cell_type": "code",
   "execution_count": null,
   "metadata": {
    "collapsed": true
   },
   "outputs": [],
   "source": []
  }
 ],
 "metadata": {
  "kernelspec": {
   "display_name": "Python 2",
   "language": "python",
   "name": "python2"
  },
  "language_info": {
   "codemirror_mode": {
    "name": "ipython",
    "version": 2
   },
   "file_extension": ".py",
   "mimetype": "text/x-python",
   "name": "python",
   "nbconvert_exporter": "python",
   "pygments_lexer": "ipython2",
   "version": "2.7.14"
  }
 },
 "nbformat": 4,
 "nbformat_minor": 2
}
